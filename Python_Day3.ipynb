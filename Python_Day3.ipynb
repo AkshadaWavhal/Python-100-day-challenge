{
 "cells": [
  {
   "cell_type": "code",
   "execution_count": 8,
   "id": "4392ffb4-a7f3-4129-b0da-ca1fc6a4160c",
   "metadata": {},
   "outputs": [
    {
     "name": "stdout",
     "output_type": "stream",
     "text": [
      "Largest element: 9\n",
      "Smallest element: 1\n"
     ]
    }
   ],
   "source": [
    "# Create a list (array)\n",
    "a = [4, 8, 1, 9, 5, 3]\n",
    "\n",
    "# Initialize largest and smallest with the first element\n",
    "l = a[0]\n",
    "s = a[0]\n",
    "\n",
    "# Loop through the list\n",
    "for i in a:\n",
    "    if i > l:\n",
    "        l = i\n",
    "    if i < s:\n",
    "        s = i\n",
    "\n",
    "# Print the results\n",
    "print(\"Largest element:\", l)\n",
    "print(\"Smallest element:\", s)\n"
   ]
  },
  {
   "cell_type": "code",
   "execution_count": 10,
   "id": "a27471ee-44c6-4e0e-b41c-9bb9048969c6",
   "metadata": {},
   "outputs": [
    {
     "name": "stdout",
     "output_type": "stream",
     "text": [
      "15\n",
      "3.0\n"
     ]
    }
   ],
   "source": [
    "# find the sum and average\n",
    "a=[1,2,3,4,5]\n",
    "sum=0\n",
    "\n",
    "# sum\n",
    "for i in a:\n",
    "    sum+=i\n",
    "\n",
    "print(sum)\n",
    "print(sum/len(a))"
   ]
  },
  {
   "cell_type": "code",
   "execution_count": 12,
   "id": "546fd528-b3a1-40ae-aaf2-14eeeaf70889",
   "metadata": {},
   "outputs": [
    {
     "name": "stdout",
     "output_type": "stream",
     "text": [
      "[6, 89, 6, 4, 2]\n"
     ]
    }
   ],
   "source": [
    " # reverse the array\n",
    "\n",
    "a=[2,4,6,89,6]\n",
    "start=0\n",
    "end=len(a)-1\n",
    "while(start<end):\n",
    "    a[start],a[end]=a[end],a[start]\n",
    "    start+=1\n",
    "    end-=1\n",
    "print(a)"
   ]
  },
  {
   "cell_type": "code",
   "execution_count": 19,
   "id": "aca5aab0-814d-454b-bef8-0e40dca9152d",
   "metadata": {},
   "outputs": [
    {
     "name": "stdout",
     "output_type": "stream",
     "text": [
      "even [2, 4]\n",
      "odd [1, 3, 5]\n"
     ]
    }
   ],
   "source": [
    "# find the array even and odd\n",
    "arr=[1,2,3,4,5]\n",
    "even=[]\n",
    "odd=[]\n",
    "for i in arr:\n",
    "    if(i%2==0):\n",
    "        even.append(i)\n",
    "    else:\n",
    "        odd.append(i)\n",
    "\n",
    "print(\"even\", even)\n",
    "print(\"odd\", odd)"
   ]
  },
  {
   "cell_type": "code",
   "execution_count": 20,
   "id": "2835612b-4875-46a4-acc5-b95f26074f2d",
   "metadata": {},
   "outputs": [
    {
     "name": "stdout",
     "output_type": "stream",
     "text": [
      "even count:  2\n",
      "odd count:  3\n"
     ]
    }
   ],
   "source": [
    "# cunt even and odd\n",
    "arr=[1,2,3,4,5]\n",
    "e=0\n",
    "o=0\n",
    "for i in arr:\n",
    "    if(i%2==0):\n",
    "        e+=1\n",
    "    else:\n",
    "        o+=1\n",
    "print(\"even count: \",e)\n",
    "print(\"odd count: \", o)"
   ]
  },
  {
   "cell_type": "code",
   "execution_count": null,
   "id": "10514369-8f55-4707-89ce-4cb1f5f17057",
   "metadata": {},
   "outputs": [],
   "source": []
  }
 ],
 "metadata": {
  "kernelspec": {
   "display_name": "Python 3 (ipykernel)",
   "language": "python",
   "name": "python3"
  },
  "language_info": {
   "codemirror_mode": {
    "name": "ipython",
    "version": 3
   },
   "file_extension": ".py",
   "mimetype": "text/x-python",
   "name": "python",
   "nbconvert_exporter": "python",
   "pygments_lexer": "ipython3",
   "version": "3.12.4"
  }
 },
 "nbformat": 4,
 "nbformat_minor": 5
}
