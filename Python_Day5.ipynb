{
 "cells": [
  {
   "cell_type": "code",
   "execution_count": 22,
   "id": "71edd876-5d5c-4a61-b591-0e658948d546",
   "metadata": {},
   "outputs": [
    {
     "name": "stdin",
     "output_type": "stream",
     "text": [
      "enter the key:  8\n"
     ]
    },
    {
     "name": "stdout",
     "output_type": "stream",
     "text": [
      "key are present\n"
     ]
    }
   ],
   "source": [
    "#linear serach\n",
    "a=[1,4,8,3,9]\n",
    "n=len(a)-1\n",
    "key=int(input(\"enter the key: \"))\n",
    "flag=False\n",
    "for i in a:\n",
    "    if(i==key):\n",
    "        print(\"key are present\")\n",
    "        flag=True\n",
    "        break\n",
    "if not flag:\n",
    "    print(\"key are not present\")\n"
   ]
  },
  {
   "cell_type": "code",
   "execution_count": 28,
   "id": "661c0536-3794-4c62-b505-6071269105de",
   "metadata": {},
   "outputs": [
    {
     "name": "stdin",
     "output_type": "stream",
     "text": [
      "enter the key:  34\n"
     ]
    },
    {
     "name": "stdout",
     "output_type": "stream",
     "text": [
      "key are not present\n"
     ]
    }
   ],
   "source": [
    "#binary serach\n",
    "a=[1,2,3,4,5]\n",
    "key=int(input(\"enter the key: \"))\n",
    "l=a[0]\n",
    "h=len(a)-1\n",
    "flag=False\n",
    "while l<=h:\n",
    "    mid=(l+h)//2\n",
    "    if(a[mid]==key):\n",
    "        print(\"key are prseent\")\n",
    "        flag=True\n",
    "        break\n",
    "    elif(key<a[mid]):\n",
    "        h=mid-1\n",
    "    else:\n",
    "        l=mid+1\n",
    "\n",
    "if not flag:\n",
    "    print(\"key are not present\")\n",
    "    \n"
   ]
  },
  {
   "cell_type": "code",
   "execution_count": 37,
   "id": "120e31d6-b53b-4668-a3ce-b5b8778e8c27",
   "metadata": {},
   "outputs": [
    {
     "name": "stdout",
     "output_type": "stream",
     "text": [
      "orignal array:  [8, 2, 9, 4, 6]\n",
      "sorted array:  [2, 4, 6, 8, 9]\n"
     ]
    }
   ],
   "source": [
    "# Bubble sort\n",
    "a=[8,2,9,4,6]\n",
    "n=len(a)\n",
    "print(\"orignal array: \",a)\n",
    "for i in range(n-1):\n",
    "    for j in range(n-i-1):\n",
    "        if(a[j]>a[j+1]):\n",
    "            a[j],a[j+1]=a[j+1],a[j]\n",
    "print(\"sorted array: \",a)\n"
   ]
  },
  {
   "cell_type": "code",
   "execution_count": 38,
   "id": "6d2e9c93-ddf7-4815-a444-70cb572db9b1",
   "metadata": {},
   "outputs": [
    {
     "name": "stdout",
     "output_type": "stream",
     "text": [
      "Sorted array: [3, 4, 5, 8]\n"
     ]
    }
   ],
   "source": [
    "# today target\n",
    "# Selection Sort\n",
    "a = [5, 3, 8, 4]\n",
    "n = len(a)\n",
    "\n",
    "for i in range(n):\n",
    "    min_index = i\n",
    "    for j in range(i + 1, n):\n",
    "        if a[j] < a[min_index]:\n",
    "            min_index = j\n",
    "    a[i], a[min_index] = a[min_index], a[i]\n",
    "\n",
    "print(\"Sorted array:\", a)\n"
   ]
  },
  {
   "cell_type": "code",
   "execution_count": null,
   "id": "46b0b84b-7ef9-4ca1-bdc9-fad3585a6bfa",
   "metadata": {},
   "outputs": [],
   "source": []
  },
  {
   "cell_type": "code",
   "execution_count": null,
   "id": "a04e4002-1bcf-4743-a306-556ae2e5ea14",
   "metadata": {},
   "outputs": [],
   "source": [
    "a=[1,5,8,3]\n",
    "n=len(a)\n",
    "for i in range(n):\n",
    "    min_index=i\n",
    "    for j in range(i+1,n):\n",
    "        if(a[j]<a[min_index]):\n",
    "            min-index=j\n",
    "        a[i],a[min_index]=a[min_index],a[i]\n"
   ]
  },
  {
   "cell_type": "code",
   "execution_count": 47,
   "id": "32ffb1f5-bebe-4539-905f-682f62e4f18b",
   "metadata": {},
   "outputs": [
    {
     "name": "stdout",
     "output_type": "stream",
     "text": [
      "*****\n",
      "*****\n",
      "*****\n",
      "*****\n"
     ]
    }
   ],
   "source": [
    "# first pattern print row=4,columns=5\n",
    "for i in range(4):\n",
    "    for j in range(5):\n",
    "        print(\"*\",end=\"\")\n",
    "    print()"
   ]
  },
  {
   "cell_type": "code",
   "execution_count": 48,
   "id": "cb766312-ea1f-4f80-933f-445a1f245afe",
   "metadata": {},
   "outputs": [
    {
     "name": "stdout",
     "output_type": "stream",
     "text": [
      "*****\n",
      "*****\n",
      "*****\n",
      "*****\n"
     ]
    }
   ],
   "source": [
    "for i in range(4):\n",
    "    for j in range(5):\n",
    "        print(\"*\", end=\"\")\n",
    "    print()\n"
   ]
  },
  {
   "cell_type": "code",
   "execution_count": 52,
   "id": "fcee0253-16c7-4872-ac17-8a13ab7744ab",
   "metadata": {},
   "outputs": [
    {
     "ename": "TypeError",
     "evalue": "Value after * must be an iterable, not int",
     "output_type": "error",
     "traceback": [
      "\u001b[1;31m---------------------------------------------------------------------------\u001b[0m",
      "\u001b[1;31mTypeError\u001b[0m                                 Traceback (most recent call last)",
      "Cell \u001b[1;32mIn[52], line 2\u001b[0m\n\u001b[0;32m      1\u001b[0m \u001b[38;5;28;01mfor\u001b[39;00m i \u001b[38;5;129;01min\u001b[39;00m \u001b[38;5;28mrange\u001b[39m(\u001b[38;5;241m1\u001b[39m,\u001b[38;5;241m5\u001b[39m):\n\u001b[1;32m----> 2\u001b[0m     \u001b[38;5;28mprint\u001b[39m(\u001b[38;5;124m\"\u001b[39m\u001b[38;5;124m*\u001b[39m\u001b[38;5;124m\"\u001b[39m,\u001b[38;5;241m*\u001b[39mi)\n",
      "\u001b[1;31mTypeError\u001b[0m: Value after * must be an iterable, not int"
     ]
    }
   ],
   "source": [
    "for i in range(1,5):\n",
    "    print(\"*\"*i)"
   ]
  },
  {
   "cell_type": "code",
   "execution_count": null,
   "id": "a9b3e26e-bc47-407d-a3d9-15ec36c2ba81",
   "metadata": {},
   "outputs": [],
   "source": []
  }
 ],
 "metadata": {
  "kernelspec": {
   "display_name": "Python 3 (ipykernel)",
   "language": "python",
   "name": "python3"
  },
  "language_info": {
   "codemirror_mode": {
    "name": "ipython",
    "version": 3
   },
   "file_extension": ".py",
   "mimetype": "text/x-python",
   "name": "python",
   "nbconvert_exporter": "python",
   "pygments_lexer": "ipython3",
   "version": "3.12.4"
  }
 },
 "nbformat": 4,
 "nbformat_minor": 5
}
