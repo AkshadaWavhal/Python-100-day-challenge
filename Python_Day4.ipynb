{
 "cells": [
  {
   "cell_type": "code",
   "execution_count": 34,
   "id": "bde31c8f-ae27-4400-af7b-aa9124ba6a75",
   "metadata": {},
   "outputs": [
    {
     "name": "stdin",
     "output_type": "stream",
     "text": [
      "Enter the key:  1\n"
     ]
    },
    {
     "name": "stdout",
     "output_type": "stream",
     "text": [
      "Key is present\n"
     ]
    }
   ],
   "source": [
    "# Searching element in array\n",
    "a = [1, 5, 8, 3, 5]\n",
    "key = int(input(\"Enter the key: \"))\n",
    "\n",
    "found = False   # flag to check if key is found\n",
    "\n",
    "for i in a:\n",
    "    if i == key:\n",
    "        print(\"Key is present\")\n",
    "        found = True\n",
    "        break\n",
    "\n",
    "if not found:\n",
    "    print(\"Key is not present\")\n"
   ]
  },
  {
   "cell_type": "code",
   "execution_count": 43,
   "id": "8b13cf66-95c6-4892-be43-5893cc9f404c",
   "metadata": {},
   "outputs": [
    {
     "name": "stdin",
     "output_type": "stream",
     "text": [
      "enter the number of element present in list:  4\n",
      "enter the array:  2\n",
      "enter the array:  3\n",
      "enter the array:  5\n",
      "enter the array:  6\n"
     ]
    },
    {
     "name": "stdout",
     "output_type": "stream",
     "text": [
      "[2, 3, 5, 6]\n"
     ]
    }
   ],
   "source": [
    "# create user input list the array\n",
    "a=[]\n",
    "n=int(input(\"enter the number of element present in list: \"))\n",
    "for i in range(n):\n",
    "    l=int(input(\"enter the array: \"))\n",
    "    a.append(l)\n",
    "print(a)"
   ]
  },
  {
   "cell_type": "code",
   "execution_count": 49,
   "id": "63a25c35-1c5c-4139-a85c-d9b99bfbac84",
   "metadata": {},
   "outputs": [
    {
     "name": "stdout",
     "output_type": "stream",
     "text": [
      "[1, 2, 3, 5, 7, 9]\n"
     ]
    }
   ],
   "source": [
    "# sorting\n",
    "a=[5,3,7,2,9,1]\n",
    "a.sort()\n",
    "print(a)"
   ]
  },
  {
   "cell_type": "code",
   "execution_count": 56,
   "id": "c316e16d-dcfa-4521-9278-d3c4ab7d2881",
   "metadata": {},
   "outputs": [
    {
     "name": "stdout",
     "output_type": "stream",
     "text": [
      "Original array: [5, 3, 7, 2, 9, 1]\n",
      "Sorted array: [1, 2, 3, 5, 7, 9]\n"
     ]
    }
   ],
   "source": [
    "# Bubble Sort in Python\n",
    "\n",
    "a = [5, 3, 7, 2, 9, 1]\n",
    "n = len(a)\n",
    "\n",
    "print(\"Original array:\", a)\n",
    "\n",
    "for i in range(n - 1):          # outer loop for passes\n",
    "    for j in range(n - i - 1):  # inner loop for comparisons\n",
    "        if a[j] > a[j + 1]:     # if current element > next element\n",
    "            a[j], a[j + 1] = a[j + 1], a[j]  # swap them\n",
    "\n",
    "print(\"Sorted array:\", a)\n"
   ]
  },
  {
   "cell_type": "code",
   "execution_count": null,
   "id": "1c866f07-3ffb-4b82-afe7-10e18430cbfa",
   "metadata": {},
   "outputs": [],
   "source": [
    "# Binary Search\n",
    "a = [2, 4, 5, 6, 7, 8, 9]\n",
    "low = 0\n",
    "high = len(a) - 1\n",
    "key = 4\n",
    "flag = False\n",
    "\n",
    "while low <= high:\n",
    "    mid = (low + high) // 2\n",
    "    if a[mid] == key:\n",
    "        print(\"Key found at index:\", mid)\n",
    "        flag = True\n",
    "        break\n",
    "    elif a[mid] < key:\n",
    "        low = mid + 1\n",
    "    else:\n",
    "        high = mid - 1\n",
    "\n",
    "if not flag:\n",
    "    print(\"Key not found\")\n"
   ]
  },
  {
   "cell_type": "code",
   "execution_count": null,
   "id": "958d7cc7-9a7c-4294-bfeb-241329c01f67",
   "metadata": {},
   "outputs": [],
   "source": [
    "print(\"hiii\")"
   ]
  },
  {
   "cell_type": "code",
   "execution_count": null,
   "id": "8971dfe1-a485-4a5a-8d4f-85401d3516dc",
   "metadata": {},
   "outputs": [],
   "source": []
  },
  {
   "cell_type": "code",
   "execution_count": null,
   "id": "d7651651-b514-44f0-acb4-2eeca15236f7",
   "metadata": {},
   "outputs": [],
   "source": []
  }
 ],
 "metadata": {
  "kernelspec": {
   "display_name": "Python 3 (ipykernel)",
   "language": "python",
   "name": "python3"
  },
  "language_info": {
   "codemirror_mode": {
    "name": "ipython",
    "version": 3
   },
   "file_extension": ".py",
   "mimetype": "text/x-python",
   "name": "python",
   "nbconvert_exporter": "python",
   "pygments_lexer": "ipython3",
   "version": "3.12.4"
  }
 },
 "nbformat": 4,
 "nbformat_minor": 5
}
