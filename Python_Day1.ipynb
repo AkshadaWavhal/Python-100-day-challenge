{
 "cells": [
  {
   "cell_type": "code",
   "execution_count": 1,
   "id": "4881f2cc-f410-42c5-9547-b891e289800d",
   "metadata": {},
   "outputs": [
    {
     "name": "stdin",
     "output_type": "stream",
     "text": [
      "enter the temperture:  25\n"
     ]
    },
    {
     "name": "stdout",
     "output_type": "stream",
     "text": [
      "Conversion is : 77.0\n"
     ]
    }
   ],
   "source": [
    "#Celsies to fahrenheit\n",
    "c=int(input(\"enter the temperture: \"))\n",
    "a=(c*9/5)+32\n",
    "print(\"Conversion is :\",a)"
   ]
  },
  {
   "cell_type": "code",
   "execution_count": 3,
   "id": "e4882b30-567a-4c82-9c49-59e0e28c3009",
   "metadata": {},
   "outputs": [
    {
     "name": "stdout",
     "output_type": "stream",
     "text": [
      "10\n"
     ]
    }
   ],
   "source": [
    "# sum of list element\n",
    "a=[1,2,3,4]\n",
    "sum=0\n",
    "for i in (a):\n",
    "    sum=sum+i\n",
    "print(sum)"
   ]
  },
  {
   "cell_type": "code",
   "execution_count": 12,
   "id": "c92a379c-9640-4b52-9416-25aa77be8614",
   "metadata": {},
   "outputs": [
    {
     "name": "stdout",
     "output_type": "stream",
     "text": [
      "largest number is  88\n"
     ]
    }
   ],
   "source": [
    "#largest number in list\n",
    "a=[24,6,3,88,23,4]\n",
    "l=a[0]\n",
    "for i in (a):\n",
    "    if(l<i):\n",
    "        l=i\n",
    "print(\"largest number is \" , l)\n"
   ]
  },
  {
   "cell_type": "code",
   "execution_count": 18,
   "id": "7250468d-adc1-4308-8eac-c48ed062af67",
   "metadata": {},
   "outputs": [
    {
     "name": "stdout",
     "output_type": "stream",
     "text": [
      "[34, 3, 2, 4, 7, 8]\n"
     ]
    }
   ],
   "source": [
    "# remove duplicate in list\n",
    "a=[34,7,2,8,3,7,4]\n",
    "a1=list(set(a))\n",
    "print(a1)"
   ]
  },
  {
   "cell_type": "code",
   "execution_count": 23,
   "id": "35e296a2-c5c6-4fe2-8f7f-22470567373a",
   "metadata": {},
   "outputs": [
    {
     "name": "stdout",
     "output_type": "stream",
     "text": [
      "lahvaw adahska\n"
     ]
    }
   ],
   "source": [
    "#reverse the string\n",
    "a=\"akshada wavhal\"\n",
    "a1=a[::-1]\n",
    "print(a1)"
   ]
  },
  {
   "cell_type": "code",
   "execution_count": 25,
   "id": "ffc0b14f-3fd0-4371-8e40-4c0976c5e6a1",
   "metadata": {},
   "outputs": [
    {
     "name": "stdout",
     "output_type": "stream",
     "text": [
      "[2, 4, 6]\n",
      "[1, 3, 5]\n"
     ]
    }
   ],
   "source": [
    "# check even and odd  element in llist\n",
    "l=[1,2,3,4,5,6]\n",
    "l1=[]\n",
    "l2=[]\n",
    "for i in (l):\n",
    "    if(i%2==0):\n",
    "        l1.append(i)\n",
    "    else:\n",
    "        l2.append(i)\n",
    "\n",
    "print(l1)\n",
    "print(l2)"
   ]
  },
  {
   "cell_type": "markdown",
   "id": "a7119734-f8a7-4e06-a3b7-4da5bb735891",
   "metadata": {},
   "source": []
  },
  {
   "cell_type": "code",
   "execution_count": 26,
   "id": "6d75cdef-2a89-4c7a-ad1c-75c28db94648",
   "metadata": {},
   "outputs": [
    {
     "name": "stdout",
     "output_type": "stream",
     "text": [
      "[1, 2, 3, 4, 5, 6]\n"
     ]
    }
   ],
   "source": [
    "# add 2 list\n",
    "a=[1,2,3]\n",
    "b=[4,5,6]\n",
    "c=a+b\n",
    "print(c)"
   ]
  },
  {
   "cell_type": "code",
   "execution_count": 28,
   "id": "b5757611-47d0-4216-afee-075e12495911",
   "metadata": {},
   "outputs": [
    {
     "name": "stdout",
     "output_type": "stream",
     "text": [
      "[5, 4, 3, 2, 1]\n"
     ]
    }
   ],
   "source": [
    "# roate the list\n",
    "a=[1,2,3,4,5]\n",
    "a1=a[::-1]\n",
    "print(a1)"
   ]
  },
  {
   "cell_type": "code",
   "execution_count": 32,
   "id": "f9f408e6-d364-4707-9b34-2d087be78346",
   "metadata": {},
   "outputs": [
    {
     "name": "stdout",
     "output_type": "stream",
     "text": [
      "{'name': 'akshada', 'class': 2, 'roll no': 34}\n"
     ]
    }
   ],
   "source": [
    "# merge 2 list in dictionary\n",
    "a=[\"name\",\"class\",\"roll no\"]\n",
    "b=[\"akshada\",2,34]\n",
    "my_dict=dict(zip(a,b))\n",
    "print(my_dict)"
   ]
  },
  {
   "cell_type": "code",
   "execution_count": 37,
   "id": "35a8dc7a-4598-4f2a-8cc3-a1b840a58d35",
   "metadata": {},
   "outputs": [
    {
     "name": "stdout",
     "output_type": "stream",
     "text": [
      "{'name': 'Akshada', 'calss': '2', 'roll': 34, 'sub': 'sci'}\n"
     ]
    }
   ],
   "source": [
    "# mutiple dictionary merge\n",
    "a={\"name\":\"Akshada\",\"calss\":\"2\"}\n",
    "b={\"roll\":34,\"sub\":\"sci\"}\n",
    "a.update(b)\n",
    "print(a)"
   ]
  },
  {
   "cell_type": "code",
   "execution_count": null,
   "id": "24994470-fff4-46de-a8f0-26f74c6fdb88",
   "metadata": {},
   "outputs": [],
   "source": []
  }
 ],
 "metadata": {
  "kernelspec": {
   "display_name": "Python 3 (ipykernel)",
   "language": "python",
   "name": "python3"
  },
  "language_info": {
   "codemirror_mode": {
    "name": "ipython",
    "version": 3
   },
   "file_extension": ".py",
   "mimetype": "text/x-python",
   "name": "python",
   "nbconvert_exporter": "python",
   "pygments_lexer": "ipython3",
   "version": "3.12.4"
  }
 },
 "nbformat": 4,
 "nbformat_minor": 5
}
